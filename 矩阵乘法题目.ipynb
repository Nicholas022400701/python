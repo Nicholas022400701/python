{
 "cells": [
  {
   "cell_type": "code",
   "execution_count": null,
   "id": "2ff8d0fe",
   "metadata": {},
   "outputs": [],
   "source": [
    "def matrix_multiplication(x, y):\n",
    "    #在此处输入算法"
   ]
  },
  {
   "cell_type": "code",
   "execution_count": null,
   "id": "c98bb534",
   "metadata": {},
   "outputs": [],
   "source": [
    "assert matrix_multiplication([[2]], [[5]]) == [[10]]"
   ]
  },
  {
   "cell_type": "code",
   "execution_count": null,
   "id": "8f76c02e",
   "metadata": {},
   "outputs": [],
   "source": [
    "assert matrix_multiplication([[1, 3]], [[5], [2]]) == [[11]]"
   ]
  },
  {
   "cell_type": "code",
   "execution_count": null,
   "id": "7d887fb5",
   "metadata": {},
   "outputs": [],
   "source": [
    "assert matrix_multiplication([[3, 5], [2, 4]], [[1, 2, 5], [4, 3, 2]]) == [[23, 21, 25], [18, 16, 18]]"
   ]
  }
 ],
 "metadata": {
  "kernelspec": {
   "display_name": "Python 3 (ipykernel)",
   "language": "python",
   "name": "python3"
  },
  "language_info": {
   "codemirror_mode": {
    "name": "ipython",
    "version": 3
   },
   "file_extension": ".py",
   "mimetype": "text/x-python",
   "name": "python",
   "nbconvert_exporter": "python",
   "pygments_lexer": "ipython3",
   "version": "3.10.6"
  }
 },
 "nbformat": 4,
 "nbformat_minor": 5
}
