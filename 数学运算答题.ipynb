{
 "cells": [
  {
   "cell_type": "code",
   "execution_count": 1,
   "id": "3ddd73e0-20e6-43c1-82a2-7c7b66f0d26b",
   "metadata": {
    "scrolled": true
   },
   "outputs": [
    {
     "name": "stdin",
     "output_type": "stream",
     "text": [
      "请指定运算符 **\n",
      "请指定下限 2\n",
      "请指定上限 6\n",
      "2**4=? 16\n"
     ]
    },
    {
     "name": "stdout",
     "output_type": "stream",
     "text": [
      "答对啦！\n"
     ]
    },
    {
     "name": "stdin",
     "output_type": "stream",
     "text": [
      "3**3=? 27\n"
     ]
    },
    {
     "name": "stdout",
     "output_type": "stream",
     "text": [
      "答对啦！\n"
     ]
    },
    {
     "name": "stdin",
     "output_type": "stream",
     "text": [
      "3**3=? 27\n"
     ]
    },
    {
     "name": "stdout",
     "output_type": "stream",
     "text": [
      "答对啦！\n"
     ]
    },
    {
     "name": "stdin",
     "output_type": "stream",
     "text": [
      "3**3=? 27\n"
     ]
    },
    {
     "name": "stdout",
     "output_type": "stream",
     "text": [
      "答对啦！\n"
     ]
    },
    {
     "name": "stdin",
     "output_type": "stream",
     "text": [
      "5**4=? 625\n"
     ]
    },
    {
     "name": "stdout",
     "output_type": "stream",
     "text": [
      "答对啦！\n"
     ]
    },
    {
     "name": "stdin",
     "output_type": "stream",
     "text": [
      "3**3=? 27\n"
     ]
    },
    {
     "name": "stdout",
     "output_type": "stream",
     "text": [
      "答对啦！\n"
     ]
    },
    {
     "name": "stdin",
     "output_type": "stream",
     "text": [
      "6**2=? 36\n"
     ]
    },
    {
     "name": "stdout",
     "output_type": "stream",
     "text": [
      "答对啦！\n"
     ]
    },
    {
     "name": "stdin",
     "output_type": "stream",
     "text": [
      "2**5=? 32\n"
     ]
    },
    {
     "name": "stdout",
     "output_type": "stream",
     "text": [
      "答对啦！\n"
     ]
    },
    {
     "name": "stdin",
     "output_type": "stream",
     "text": [
      "5**5=? 3125\n"
     ]
    },
    {
     "name": "stdout",
     "output_type": "stream",
     "text": [
      "答对啦！\n"
     ]
    },
    {
     "name": "stdin",
     "output_type": "stream",
     "text": [
      "6**2=? 36\n"
     ]
    },
    {
     "name": "stdout",
     "output_type": "stream",
     "text": [
      "答对啦！\n"
     ]
    },
    {
     "name": "stdin",
     "output_type": "stream",
     "text": [
      "2**2=? 4\n"
     ]
    },
    {
     "name": "stdout",
     "output_type": "stream",
     "text": [
      "答对啦！\n"
     ]
    },
    {
     "name": "stdin",
     "output_type": "stream",
     "text": [
      "2**3=? 8\n"
     ]
    },
    {
     "name": "stdout",
     "output_type": "stream",
     "text": [
      "答对啦！\n"
     ]
    },
    {
     "name": "stdin",
     "output_type": "stream",
     "text": [
      "4**4=? 256\n"
     ]
    },
    {
     "name": "stdout",
     "output_type": "stream",
     "text": [
      "答对啦！\n"
     ]
    },
    {
     "name": "stdin",
     "output_type": "stream",
     "text": [
      "2**3=? 8\n"
     ]
    },
    {
     "name": "stdout",
     "output_type": "stream",
     "text": [
      "答对啦！\n"
     ]
    },
    {
     "name": "stdin",
     "output_type": "stream",
     "text": [
      "2**6=? 64\n"
     ]
    },
    {
     "name": "stdout",
     "output_type": "stream",
     "text": [
      "答对啦！\n"
     ]
    },
    {
     "name": "stdin",
     "output_type": "stream",
     "text": [
      "5**4=? 1\n"
     ]
    },
    {
     "name": "stdout",
     "output_type": "stream",
     "text": [
      "答错啦！\n"
     ]
    },
    {
     "name": "stdin",
     "output_type": "stream",
     "text": [
      "继续答题吗？(y/n) n\n"
     ]
    },
    {
     "name": "stdout",
     "output_type": "stream",
     "text": [
      "答题结束！你的分数是15\n"
     ]
    }
   ],
   "source": [
    "score=0\n",
    "i=1\n",
    "from random import randint\n",
    "oprt=input(\"请指定运算符\")\n",
    "bottom=int(input(\"请指定下限\"))\n",
    "top=int(input(\"请指定上限\"))\n",
    "while i<2:\n",
    "    a=randint(bottom,top)\n",
    "    b=randint(bottom,top)\n",
    "    astr=str(a)\n",
    "    bstr=str(b)\n",
    "    usasw=int(input(astr+oprt+bstr+\"=?\"))\n",
    "    answer=eval(\"a {0} b\".format(oprt))\n",
    "    if usasw==answer:\n",
    "        print(\"答对啦！\")\n",
    "        score=score+1\n",
    "    else:\n",
    "        print(\"答错啦！\")\n",
    "        choice=input(\"继续答题吗？(y/n)\")\n",
    "        if choice==\"n\":\n",
    "            ++i\n",
    "            break\n",
    "print (\"答题结束！你的分数是%d\"%(score))"
   ]
  },
  {
   "cell_type": "code",
   "execution_count": null,
   "id": "a6d3f775-fd9c-494c-8197-589a9a774484",
   "metadata": {},
   "outputs": [],
   "source": []
  }
 ],
 "metadata": {
  "kernelspec": {
   "display_name": "Python 3 (ipykernel)",
   "language": "python",
   "name": "python3"
  },
  "language_info": {
   "codemirror_mode": {
    "name": "ipython",
    "version": 3
   },
   "file_extension": ".py",
   "mimetype": "text/x-python",
   "name": "python",
   "nbconvert_exporter": "python",
   "pygments_lexer": "ipython3",
   "version": "3.12.4"
  }
 },
 "nbformat": 4,
 "nbformat_minor": 5
}
