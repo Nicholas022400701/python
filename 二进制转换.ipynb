{
 "cells": [
  {
   "cell_type": "code",
   "execution_count": 35,
   "id": "956e6ddc-aa66-4539-8ecc-419ef257789c",
   "metadata": {},
   "outputs": [
    {
     "name": "stdout",
     "output_type": "stream",
     "text": [
      "111100\n"
     ]
    }
   ],
   "source": [
    "def convert(X):\n",
    "    import re\n",
    "    result=\"\"\n",
    "    num=int(X)\n",
    "    if num<0:\n",
    "        numpo=abs(num)\n",
    "        while numpo!=0:\n",
    "            result=str(numpo%2)+result\n",
    "            numpo=numpo//2\n",
    "        result=''.join(\"0\" if i==\"1\" else \"1\" for i in result)\n",
    "        #for i in range (0,len(result)):\n",
    "            #if result[i] == \"1\":\n",
    "                #result=result[:i]+\"0\"+result[i+1:]\n",
    "            #else:\n",
    "                #result=result[:i]+\"1\"+result[i+1:]\n",
    "        #不够优雅的写法（运行速度慢）\n",
    "        print(result)\n",
    "    elif num>0:\n",
    "        while num!=0:\n",
    "            result=str(num%2)+result\n",
    "            num=num//2\n",
    "        print(result)\n",
    "    else:\n",
    "        print(\"0\")\n",
    "convert(\"60\")"
   ]
  },
  {
   "cell_type": "code",
   "execution_count": null,
   "id": "9400e41c-9422-4164-ae20-7a99c1ea6c3d",
   "metadata": {},
   "outputs": [],
   "source": []
  }
 ],
 "metadata": {
  "kernelspec": {
   "display_name": "Python 3 (ipykernel)",
   "language": "python",
   "name": "python3"
  },
  "language_info": {
   "codemirror_mode": {
    "name": "ipython",
    "version": 3
   },
   "file_extension": ".py",
   "mimetype": "text/x-python",
   "name": "python",
   "nbconvert_exporter": "python",
   "pygments_lexer": "ipython3",
   "version": "3.12.4"
  }
 },
 "nbformat": 4,
 "nbformat_minor": 5
}
