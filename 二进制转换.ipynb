{
 "cells": [
  {
   "cell_type": "code",
   "execution_count": 3,
   "id": "956e6ddc-aa66-4539-8ecc-419ef257789c",
   "metadata": {},
   "outputs": [
    {
     "name": "stdout",
     "output_type": "stream",
     "text": [
      "110\n"
     ]
    }
   ],
   "source": [
    "def convert(X):\n",
    "    result=\"\"\n",
    "    num=int(X)\n",
    "    while num!=0:\n",
    "        result=str(num%2)+result\n",
    "        num=num//2\n",
    "    print(result)\n",
    "\n",
    "convert(\"6\")"
   ]
  }
 ],
 "metadata": {
  "kernelspec": {
   "display_name": "Python 3 (ipykernel)",
   "language": "python",
   "name": "python3"
  },
  "language_info": {
   "codemirror_mode": {
    "name": "ipython",
    "version": 3
   },
   "file_extension": ".py",
   "mimetype": "text/x-python",
   "name": "python",
   "nbconvert_exporter": "python",
   "pygments_lexer": "ipython3",
   "version": "3.12.4"
  }
 },
 "nbformat": 4,
 "nbformat_minor": 5
}
